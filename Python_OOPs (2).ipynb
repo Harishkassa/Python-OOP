{
  "nbformat": 4,
  "nbformat_minor": 0,
  "metadata": {
    "colab": {
      "provenance": []
    },
    "kernelspec": {
      "name": "python3",
      "display_name": "Python 3"
    },
    "language_info": {
      "name": "python"
    }
  },
  "cells": [
    {
      "cell_type": "markdown",
      "source": [
        "1. What is Object-Oriented Programming (OOP)"
      ],
      "metadata": {
        "id": "sJsubUdbAAUV"
      }
    },
    {
      "cell_type": "markdown",
      "source": [
        "-> OOp in python is a way to organize and structure the code using objects to promote code reusability, modularity, scalability."
      ],
      "metadata": {
        "id": "O8qLr_NsAEoh"
      }
    },
    {
      "cell_type": "markdown",
      "source": [
        "2. What is a class in OOP\n",
        "\n"
      ],
      "metadata": {
        "id": "_vOUpvjKAErK"
      }
    },
    {
      "cell_type": "markdown",
      "source": [
        "-> Class is a blueprint or design to build an object. for example a company xyz  builds cars so car is an object and xyz is class. Class does not contain a memory"
      ],
      "metadata": {
        "id": "WM5y0j3bAEuD"
      }
    },
    {
      "cell_type": "markdown",
      "source": [
        "3. What is an object in OOP"
      ],
      "metadata": {
        "id": "PcI5DSeYAEwp"
      }
    },
    {
      "cell_type": "markdown",
      "source": [
        "-> Object is an instance of a class. It contains a memory\n"
      ],
      "metadata": {
        "id": "IFUALA6zAEzi"
      }
    },
    {
      "cell_type": "markdown",
      "source": [
        "4. What is the difference between abstraction and encapsulation+\n"
      ],
      "metadata": {
        "id": "1Oi-5B1QAE2U"
      }
    },
    {
      "cell_type": "markdown",
      "source": [
        "-> Abstraction is useful for showing the only neccessary part and hides uneccessary part of info. While in encapsulation it binds the data (variable) and the method in single class."
      ],
      "metadata": {
        "id": "Rl_DeOjcAE5N"
      }
    },
    {
      "cell_type": "markdown",
      "source": [
        "5. What are dunder methods in Python"
      ],
      "metadata": {
        "id": "YlvIj8mXAE79"
      }
    },
    {
      "cell_type": "markdown",
      "source": [
        "-> Dunder methods are a special method used for customize the built in class.\n",
        "for example : name, add, call, len, etc methods are special or dunder methods\n"
      ],
      "metadata": {
        "id": "cpRyf6gHAE-m"
      }
    },
    {
      "cell_type": "markdown",
      "source": [
        "6. Explain the concept of inheritance in OOP"
      ],
      "metadata": {
        "id": "qoeJoMtyAFBg"
      }
    },
    {
      "cell_type": "markdown",
      "source": [
        "-> Inheritance is used for expand the parent properties in his child class. for example a grandfather's propeties is come into his son and father's property is come into their son also some properties of grandfather are also come into their grandson"
      ],
      "metadata": {
        "id": "lr0HlPpdAFEC"
      }
    },
    {
      "cell_type": "markdown",
      "source": [
        "7. What is polymorphism in OOP"
      ],
      "metadata": {
        "id": "9mnvwUTRAFGy"
      }
    },
    {
      "cell_type": "markdown",
      "source": [
        "-> Poly means many and morphism means character or you can say role means a person can have different types of role. like a person is play a teacher, father, grandfather, husband, etc role. so its called polymorphism."
      ],
      "metadata": {
        "id": "twpav96fAFJP"
      }
    },
    {
      "cell_type": "markdown",
      "source": [
        "8. How is encapsulation achieved in Python\n"
      ],
      "metadata": {
        "id": "MEMvEao6AFMz"
      }
    },
    {
      "cell_type": "markdown",
      "source": [
        "-> Encapsulation is achieved by private variables means when we make double underscore before any variable so that variable becomes a private variable.\n",
        "for example self.__name"
      ],
      "metadata": {
        "id": "TyDefpRQEfsY"
      }
    },
    {
      "cell_type": "markdown",
      "source": [
        "9. What is a constructor in Python"
      ],
      "metadata": {
        "id": "AZWn4iMJXcFG"
      }
    },
    {
      "cell_type": "markdown",
      "source": [
        "-> A constructor is a special method in Python. It is used to initialize the instance variables and is called when an object of the class is created."
      ],
      "metadata": {
        "id": "Qvuyq7fQXcQe"
      }
    },
    {
      "cell_type": "markdown",
      "source": [
        "10. What are class and static methods in Python"
      ],
      "metadata": {
        "id": "usVN8cVzXcTc"
      }
    },
    {
      "cell_type": "markdown",
      "source": [
        "-> A class method is use cls parameter to access the class variables and static method is used as utility function to perform basic operation it does not use self or cls."
      ],
      "metadata": {
        "id": "vHi8W2MHXcWx"
      }
    },
    {
      "cell_type": "markdown",
      "source": [
        "11. What is method overloading in Python"
      ],
      "metadata": {
        "id": "bWoQnd-PXccY"
      }
    },
    {
      "cell_type": "markdown",
      "source": [
        "-> The method overloading is process in which the same function name is used with parameters is different in same class. In python it does not support Method overloading like in C/C++, Java,etc. Instead, it can be simulatd using *args and **kwargs"
      ],
      "metadata": {
        "id": "XRFDxvd1XcfP"
      }
    },
    {
      "cell_type": "markdown",
      "source": [
        "12. What is method overriding in OOP"
      ],
      "metadata": {
        "id": "nDUyIFswXcjI"
      }
    },
    {
      "cell_type": "markdown",
      "source": [
        "-> In python method overriding is a process where a child class's method follows same name and parameters of its parent class."
      ],
      "metadata": {
        "id": "qxQMO9TWXclX"
      }
    },
    {
      "cell_type": "markdown",
      "source": [
        "13. What is a property decorator in Python\n",
        "\n"
      ],
      "metadata": {
        "id": "uIiW0msOXcog"
      }
    },
    {
      "cell_type": "markdown",
      "source": [
        "-> A property decorator is used to intialize the method as a attribute form. for example def area(self): pass becomes obj.area when we call the method of class."
      ],
      "metadata": {
        "id": "YOpsl-8pXcrQ"
      }
    },
    {
      "cell_type": "markdown",
      "source": [
        "14. Why is polymorphism important in OOP"
      ],
      "metadata": {
        "id": "Wm0bTK4WXcvH"
      }
    },
    {
      "cell_type": "markdown",
      "source": [
        "-> Polymorphism is a one of the pillar of OOP. in which the method has many forms like a person has different roles and characters."
      ],
      "metadata": {
        "id": "_dN5-10qbaqt"
      }
    },
    {
      "cell_type": "markdown",
      "source": [
        "15. What is an abstract class in Python"
      ],
      "metadata": {
        "id": "CoOTJP4-batl"
      }
    },
    {
      "cell_type": "markdown",
      "source": [
        "-> A abstract class has partially implemented or Non implemented method. It used to define a rules or set the architecture for the class. It shows only neccesaary part and hides the main logic of that part or action."
      ],
      "metadata": {
        "id": "RgkxmJFabawA"
      }
    },
    {
      "cell_type": "markdown",
      "source": [
        "16. What are the advantages of OOP"
      ],
      "metadata": {
        "id": "Bc5Pztc_bayn"
      }
    },
    {
      "cell_type": "markdown",
      "source": [
        "-> OOPs Concept is useful for real world problem and in industry for code reusability better code organization and maintence and flexibity, scalibity, etc. That's why oop is useful"
      ],
      "metadata": {
        "id": "BZDrRZCzba1q"
      }
    },
    {
      "cell_type": "markdown",
      "source": [
        "17. What is the difference between a class variable and an instance variable"
      ],
      "metadata": {
        "id": "05ID0HTFba4t"
      }
    },
    {
      "cell_type": "markdown",
      "source": [
        "-> class variable is intialized at outer the method but in class level while instance variable is intialize in method which has parameter (self). Class variable shared by all objects. In instance variable belongs to one object.  "
      ],
      "metadata": {
        "id": "8CSmj4HGba7d"
      }
    },
    {
      "cell_type": "markdown",
      "source": [
        "18. What is multiple inheritance in Python"
      ],
      "metadata": {
        "id": "9w1p_zCvba-X"
      }
    },
    {
      "cell_type": "markdown",
      "source": [
        "-> Multiple inheritance is type of inheritance in which a class has inherited by more than one parent class"
      ],
      "metadata": {
        "id": "Rp0ZlljJbbBJ"
      }
    },
    {
      "cell_type": "markdown",
      "source": [
        "19. Explain the purpose of ‘’__str__’ and ‘__repr__’ ‘ methods in Python"
      ],
      "metadata": {
        "id": "7n5n-bDZbbDt"
      }
    },
    {
      "cell_type": "markdown",
      "source": [],
      "metadata": {
        "id": "nCKkJ2E6bbHT"
      }
    },
    {
      "cell_type": "markdown",
      "source": [
        "20. What is the significance of the ‘super()’ function in Python\n"
      ],
      "metadata": {
        "id": "GCX6WNfmm7Sg"
      }
    },
    {
      "cell_type": "markdown",
      "source": [
        "-> Super() function useful for calling the parent class's method or constructor of child class"
      ],
      "metadata": {
        "id": "_rgIr4SZm7Vi"
      }
    },
    {
      "cell_type": "markdown",
      "source": [
        "21. What is the significance of the __del__ method in Python"
      ],
      "metadata": {
        "id": "Ri3Osqvkm7YM"
      }
    },
    {
      "cell_type": "markdown",
      "source": [
        "-> The __del__ method is used to delete or destroy the object"
      ],
      "metadata": {
        "id": "FX_kPPJfm7a8"
      }
    },
    {
      "cell_type": "markdown",
      "source": [
        "22. What is the difference between @staticmethod and @classmethod in Python"
      ],
      "metadata": {
        "id": "N7opX1lGm7eA"
      }
    },
    {
      "cell_type": "markdown",
      "source": [
        "-> @staticmethod method is used as utility function and it does not require cls or self parameter where @classmethod is used to intialize the class variable and uses the cls parameter. It can also a return class object"
      ],
      "metadata": {
        "id": "IL-Mdptom7gy"
      }
    },
    {
      "cell_type": "markdown",
      "source": [
        "23. How does polymorphism work in Python with inheritance"
      ],
      "metadata": {
        "id": "ngh_l9lzm7q3"
      }
    },
    {
      "cell_type": "markdown",
      "source": [
        "-> Polymorphism means same method but different behaviour."
      ],
      "metadata": {
        "id": "bLy4k3RH1Iyo"
      }
    },
    {
      "cell_type": "code",
      "source": [
        "class Car:\n",
        "  def start(self):\n",
        "    print(\"Start the car\")\n",
        "  def stop(self):\n",
        "    print(\"Stop the car\")\n",
        "\n",
        "class Bike:\n",
        "  def start(self):\n",
        "    print(\"Start the bike\")\n",
        "  def stop(self):\n",
        "    print(\"Stop the bike\")\n",
        "\n",
        "class Truck:\n",
        "  def start(self):\n",
        "    print(\"Start the truck\")\n",
        "  def stop(self):\n",
        "    print(\"Stop the truck\")\n",
        "\n",
        "for vehicle in (Car(), Bike(), Truck()):\n",
        "  vehicle.start()\n",
        "  vehicle.stop()"
      ],
      "metadata": {
        "colab": {
          "base_uri": "https://localhost:8080/"
        },
        "id": "Qr3ni9xQ5eHq",
        "outputId": "3efc684a-0aba-4027-9b19-2aa1974cd70a"
      },
      "execution_count": null,
      "outputs": [
        {
          "output_type": "stream",
          "name": "stdout",
          "text": [
            "Start the car\n",
            "Stop the car\n",
            "Start the bike\n",
            "Stop the bike\n",
            "Start the truck\n",
            "Stop the truck\n"
          ]
        }
      ]
    },
    {
      "cell_type": "markdown",
      "source": [
        "24. What is method chaining in Python OOP"
      ],
      "metadata": {
        "id": "mA6702yb1I1l"
      }
    },
    {
      "cell_type": "markdown",
      "source": [
        "-> A method chaining is process in which we make a chain between the method"
      ],
      "metadata": {
        "id": "oIVDpbaO1I4X"
      }
    },
    {
      "cell_type": "code",
      "source": [
        "class Student:\n",
        "  def get_name(self, name):\n",
        "    self.name = name\n",
        "    print(f\"My Name is {self.name}\")\n",
        "    return self\n",
        "  def get_age(self,age):\n",
        "    self.age = age\n",
        "    print(f\"My age is {self.age}\")\n",
        "    return self\n",
        "\n",
        "stu = Student().get_name(\"Harish\").get_age(22)"
      ],
      "metadata": {
        "colab": {
          "base_uri": "https://localhost:8080/"
        },
        "id": "lE7y0yH_GDLl",
        "outputId": "6922b2cf-ccf8-4b7b-ea16-aecb8531949d"
      },
      "execution_count": null,
      "outputs": [
        {
          "output_type": "stream",
          "name": "stdout",
          "text": [
            "My Name is Harish\n",
            "My age is 22\n"
          ]
        }
      ]
    },
    {
      "cell_type": "markdown",
      "source": [
        "25. What is the purpose of the __call__ method in Python?"
      ],
      "metadata": {
        "id": "dB8p0vEg1I7z"
      }
    },
    {
      "cell_type": "markdown",
      "source": [
        "-> __call__ method is a special method used to make a object in callable way."
      ],
      "metadata": {
        "id": "P5m1X7YbHtyb"
      }
    },
    {
      "cell_type": "markdown",
      "source": [
        "1. Create a parent class Animal with a method speak() that prints a generic message. Create a child class Dog\n",
        "that overrides the speak() method to print \"Bark!\"."
      ],
      "metadata": {
        "id": "BN2ZVzPErq2c"
      }
    },
    {
      "cell_type": "code",
      "source": [
        "# Parent class\n",
        "class Animal:\n",
        "    def speak(self):\n",
        "        print(\"Animal makes a sound\")\n",
        "\n",
        "# Child class\n",
        "class Dog(Animal):\n",
        "    def speak(self):\n",
        "        print(\"Bark!\")\n",
        "\n",
        "# Create Objects\n",
        "a = Animal()\n",
        "a.speak()\n",
        "\n",
        "d = Dog()\n",
        "d.speak()"
      ],
      "metadata": {
        "colab": {
          "base_uri": "https://localhost:8080/"
        },
        "id": "0r4qXgg8ru6I",
        "outputId": "40c461a1-be22-4636-dd09-9575d4f43e63"
      },
      "execution_count": 1,
      "outputs": [
        {
          "output_type": "stream",
          "name": "stdout",
          "text": [
            "Animal makes a sound\n",
            "Bark!\n"
          ]
        }
      ]
    },
    {
      "cell_type": "markdown",
      "source": [
        "2. Write a program to create an abstract class Shape with a method area(). Derive classes Circle and Rectangle\n",
        "from it and implement the area() method in both.\n"
      ],
      "metadata": {
        "id": "useAp_DRsB4C"
      }
    },
    {
      "cell_type": "code",
      "source": [
        "from abc import ABC, abstractmethod\n",
        "import math\n",
        "\n",
        "# Abstract base class\n",
        "class Shape(ABC):\n",
        "    @abstractmethod\n",
        "    def area(self):\n",
        "        pass\n",
        "\n",
        "class Circle(Shape):\n",
        "    def __init__(self, radius):\n",
        "        self.radius = radius\n",
        "\n",
        "    def area(self):\n",
        "        return math.pi * self.radius ** 2\n",
        "\n",
        "class Rectangle(Shape):\n",
        "    def __init__(self, width, height):\n",
        "        self.width = width\n",
        "        self.height = height\n",
        "\n",
        "    def area(self):\n",
        "        return self.width * self.height\n",
        "\n",
        "# Create objects\n",
        "circle = Circle(5)\n",
        "res = circle.area()\n",
        "print(f\"Area of Circle: {res:.2f}\")\n",
        "\n",
        "rectangle = Rectangle(4, 6)\n",
        "res1 = rectangle.area()\n",
        "print(f\"Area of Rectangle: {res1:.2f}\")"
      ],
      "metadata": {
        "colab": {
          "base_uri": "https://localhost:8080/"
        },
        "id": "6dtl230cr_b1",
        "outputId": "e09f6bb2-2a29-4388-e237-dbd9de29b1bc"
      },
      "execution_count": 112,
      "outputs": [
        {
          "output_type": "stream",
          "name": "stdout",
          "text": [
            "Area of Circle: 78.54\n",
            "Area of Rectangle: 24.00\n"
          ]
        }
      ]
    },
    {
      "cell_type": "markdown",
      "source": [
        "3. Implement a multi-level inheritance scenario where a class Vehicle has an attribute type. Derive a class Car\n",
        "and further derive a class ElectricCar that adds a battery attribute.\n"
      ],
      "metadata": {
        "id": "WpHHXwOiufel"
      }
    },
    {
      "cell_type": "code",
      "source": [
        "class Vehicle:\n",
        "    def __init__(self, vehicle_type):\n",
        "        self.type = vehicle_type\n",
        "\n",
        "class Car(Vehicle):\n",
        "    def __init__(self, car_type):\n",
        "        super().__init__(\"Car\")\n",
        "        self.car_type = car_type\n",
        "\n",
        "    def __str__(self):\n",
        "        return f\"This is a {self.type} of type {self.car_type}\"\n",
        "\n",
        "class ElectricCar(Car):\n",
        "    def __init__(self, car_type, battery_capacity):\n",
        "        super().__init__(car_type)\n",
        "        self.battery_capacity = battery_capacity\n",
        "\n",
        "    def __str__(self):\n",
        "        return f\"{super().__str__()}, with a battery capacity of {self.battery_capacity} kWh\"\n",
        "\n",
        "# Create objects\n",
        "c = Car(\"Monster Car\")\n",
        "e = ElectricCar(\"Tesla\",100)"
      ],
      "metadata": {
        "id": "TOJR2cL-sOwC"
      },
      "execution_count": 25,
      "outputs": []
    },
    {
      "cell_type": "code",
      "source": [
        "print(c)\n",
        "print(e)"
      ],
      "metadata": {
        "colab": {
          "base_uri": "https://localhost:8080/"
        },
        "id": "Uhikghzo10nJ",
        "outputId": "4c0de5ce-185b-4f56-a6ff-c57e9685727b"
      },
      "execution_count": 26,
      "outputs": [
        {
          "output_type": "stream",
          "name": "stdout",
          "text": [
            "This is a Car of type Monster Car\n",
            "This is a Car of type Tesla, with a battery capacity of 100 kWh\n"
          ]
        }
      ]
    },
    {
      "cell_type": "markdown",
      "source": [
        "4. Demonstrate polymorphism by creating a base class Bird with a method fly(). Create two derived classes\n",
        "Sparrow and Penguin that override the fly() method.\n"
      ],
      "metadata": {
        "id": "FfyEjSQS20oc"
      }
    },
    {
      "cell_type": "code",
      "source": [
        "class Bird:\n",
        "    def fly(self):\n",
        "        print(\"Birds can fly\")\n",
        "\n",
        "class Sparrow(Bird):\n",
        "    def fly(self):\n",
        "        print(\"Sparrows can fly at high speeds\")\n",
        "\n",
        "class Penguin(Bird):\n",
        "    def fly(self):\n",
        "        print(\"Penguins cannot fly\")\n",
        "\n",
        "# Create objects\n",
        "res = Bird()\n",
        "res.fly()\n",
        "\n",
        "res1 = Sparrow()\n",
        "res1.fly()\n",
        "\n",
        "res2 = Penguin()\n",
        "res2.fly()"
      ],
      "metadata": {
        "colab": {
          "base_uri": "https://localhost:8080/"
        },
        "id": "8Bk_eY0J2A6Z",
        "outputId": "564cbd2d-40f8-4506-a9c1-b1d61c260149"
      },
      "execution_count": 28,
      "outputs": [
        {
          "output_type": "stream",
          "name": "stdout",
          "text": [
            "Birds can fly\n",
            "Sparrows can fly at high speeds\n",
            "Penguins cannot fly\n"
          ]
        }
      ]
    },
    {
      "cell_type": "markdown",
      "source": [
        "5. Write a program to demonstrate encapsulation by creating a class BankAccount with private attributes\n",
        "balance and methods to deposit, withdraw, and check balance\n"
      ],
      "metadata": {
        "id": "W3d3mJN33W-O"
      }
    },
    {
      "cell_type": "code",
      "source": [
        "class BankAccount:\n",
        "    def __init__(self, Balance):\n",
        "        self.__Balance = Balance\n",
        "\n",
        "    def Deposit(self, Amount):\n",
        "        self.Amount = Amount\n",
        "        if self.Amount < 0:\n",
        "            return \"Please Deposit the positive number of Amount\"\n",
        "        self.__Balance += self.Amount\n",
        "\n",
        "    def Withdraw(self, Amount):\n",
        "        self.Amount = Amount\n",
        "        if self.Amount > self.__Balance:\n",
        "            return \"You have a insufficient Balance to withdraw\"\n",
        "        self.__Balance -= self.Amount\n",
        "\n",
        "    def Check_Deposit(self):\n",
        "        return self.__Balance"
      ],
      "metadata": {
        "id": "NEksUhRz3SeC"
      },
      "execution_count": 45,
      "outputs": []
    },
    {
      "cell_type": "code",
      "source": [
        "bank = BankAccount(5000)\n",
        "bank.Deposit(2000)"
      ],
      "metadata": {
        "id": "hQiWwfn25yUh"
      },
      "execution_count": 46,
      "outputs": []
    },
    {
      "cell_type": "code",
      "source": [
        "bank.Check_Deposit()"
      ],
      "metadata": {
        "colab": {
          "base_uri": "https://localhost:8080/"
        },
        "id": "H3lZL4em6LsO",
        "outputId": "33d8165f-99d8-4840-f727-ee93059f284e"
      },
      "execution_count": 47,
      "outputs": [
        {
          "output_type": "execute_result",
          "data": {
            "text/plain": [
              "7000"
            ]
          },
          "metadata": {},
          "execution_count": 47
        }
      ]
    },
    {
      "cell_type": "code",
      "source": [
        "bank.Withdraw(3000)"
      ],
      "metadata": {
        "id": "gARmWGsp6Qer"
      },
      "execution_count": 48,
      "outputs": []
    },
    {
      "cell_type": "code",
      "source": [
        "bank.Check_Deposit()"
      ],
      "metadata": {
        "colab": {
          "base_uri": "https://localhost:8080/"
        },
        "id": "dFtE6lKr6ZxM",
        "outputId": "0e8dc7b8-0b8d-40f3-d52d-7d502f5a24c1"
      },
      "execution_count": 49,
      "outputs": [
        {
          "output_type": "execute_result",
          "data": {
            "text/plain": [
              "4000"
            ]
          },
          "metadata": {},
          "execution_count": 49
        }
      ]
    },
    {
      "cell_type": "markdown",
      "source": [
        "6. Demonstrate runtime polymorphism using a method play() in a base class Instrument. Derive classes Guitar\n",
        "and Piano that implement their own version of play()."
      ],
      "metadata": {
        "id": "HUEnZHFC7rca"
      }
    },
    {
      "cell_type": "code",
      "source": [
        "class Instrument:\n",
        "    def play(self):\n",
        "        print(\"Playing an instrument...\")\n",
        "\n",
        "class Guitar(Instrument):\n",
        "    def play(self):\n",
        "        print(\"Strumming the guitar\")\n",
        "\n",
        "class Piano(Instrument):\n",
        "    def play(self):\n",
        "        print(\"Playing the piano\")\n",
        "\n",
        "def play_music(instrument):\n",
        "    instrument.play()\n",
        "\n",
        "g = Guitar()\n",
        "p = Piano()\n",
        "\n",
        "play_music(g)\n",
        "play_music(p)"
      ],
      "metadata": {
        "colab": {
          "base_uri": "https://localhost:8080/"
        },
        "id": "UC1q_0e-6bk-",
        "outputId": "b8866bcc-3385-43c9-ce89-3fe79063efa7"
      },
      "execution_count": 51,
      "outputs": [
        {
          "output_type": "stream",
          "name": "stdout",
          "text": [
            "Strumming the guitar\n",
            "Playing the piano\n"
          ]
        }
      ]
    },
    {
      "cell_type": "markdown",
      "source": [
        "7. Create a class MathOperations with a class method add_numbers() to add two numbers and a static\n",
        "method subtract_numbers() to subtract two numbers.\n"
      ],
      "metadata": {
        "id": "xpWFJaRe9i2X"
      }
    },
    {
      "cell_type": "code",
      "source": [
        "class MathOperations:\n",
        "  def __init__(self, num):\n",
        "    self.num = num\n",
        "\n",
        "  @classmethod\n",
        "  def add_numbers(cls, a, b):\n",
        "    return cls(a + b)\n",
        "\n",
        "  @staticmethod\n",
        "  def subtract_numbers(a, b):\n",
        "    return (a - b)\n",
        "\n",
        "print(MathOperations.add_numbers(10, 5).num)\n",
        "print(MathOperations.subtract_numbers(10, 2))"
      ],
      "metadata": {
        "colab": {
          "base_uri": "https://localhost:8080/"
        },
        "id": "AkgKDpGa9fBK",
        "outputId": "271b0470-5b77-4631-addc-21b7f7e39206"
      },
      "execution_count": 58,
      "outputs": [
        {
          "output_type": "stream",
          "name": "stdout",
          "text": [
            "15\n",
            "8\n"
          ]
        }
      ]
    },
    {
      "cell_type": "markdown",
      "source": [
        "8. Implement a class Person with a class method to count the total number of persons created."
      ],
      "metadata": {
        "id": "J3Lo_FaADwD7"
      }
    },
    {
      "cell_type": "code",
      "source": [
        "class Person:\n",
        "  count = 0\n",
        "\n",
        "  def __init__(self,name):\n",
        "    self.name = name\n",
        "    Person.count += 1\n",
        "\n",
        "  @classmethod\n",
        "  def total_person(cls):\n",
        "    return f\"Total Person Created {cls.count}\"\n",
        "\n",
        "  def __str__(self):\n",
        "    return f\"My name is {self.name}\"\n",
        "\n",
        "p = Person(\"Harish\")\n",
        "p1 = Person(\"Keshav\")\n",
        "print(p)\n",
        "print(p1)\n",
        "print(Person.total_person())"
      ],
      "metadata": {
        "colab": {
          "base_uri": "https://localhost:8080/"
        },
        "id": "JbHBNDv4-dDA",
        "outputId": "58a83fa1-033e-4543-f9fe-4513ff42858a"
      },
      "execution_count": 67,
      "outputs": [
        {
          "output_type": "stream",
          "name": "stdout",
          "text": [
            "My name is Harish\n",
            "My name is Keshav\n",
            "Total Person Created 2\n"
          ]
        }
      ]
    },
    {
      "cell_type": "markdown",
      "source": [
        "9. Write a class Fraction with attributes numerator and denominator. Override the str method to display the\n",
        "fraction as \"numerator/denominator\"."
      ],
      "metadata": {
        "id": "ul_c0Y4fF1wC"
      }
    },
    {
      "cell_type": "code",
      "source": [
        "class Fraction:\n",
        "  def __init__(self, numerator, denominator):\n",
        "    self.numerator = numerator\n",
        "    self.denominator = denominator\n",
        "\n",
        "  def __str__(self):\n",
        "    return f\"{self.numerator}/{self.denominator}\"\n",
        "\n",
        "f = Fraction(10,20)\n",
        "print(f)"
      ],
      "metadata": {
        "colab": {
          "base_uri": "https://localhost:8080/"
        },
        "id": "P-LX5WS7FEu3",
        "outputId": "ced467ff-b0d3-467f-c810-1acbfa626351"
      },
      "execution_count": 69,
      "outputs": [
        {
          "output_type": "stream",
          "name": "stdout",
          "text": [
            "10/20\n"
          ]
        }
      ]
    },
    {
      "cell_type": "markdown",
      "source": [
        "10. Demonstrate operator overloading by creating a class Vector and overriding the add method to add two\n",
        "vectors."
      ],
      "metadata": {
        "id": "7sQNw2TjHRut"
      }
    },
    {
      "cell_type": "code",
      "source": [
        "class Vector:\n",
        "  def __init__(self, x, y):\n",
        "    self.x = x\n",
        "    self.y = y\n",
        "\n",
        "  def __add__(self, other):\n",
        "    return f\"Summation of two numbers {self.x + other.x, self.y + other.y}\"\n",
        "\n",
        "v1 = Vector(10,20)\n",
        "v2 = Vector(30,40)\n",
        "\n",
        "v3 = v1 + v2\n",
        "print(v3)"
      ],
      "metadata": {
        "colab": {
          "base_uri": "https://localhost:8080/"
        },
        "id": "YYsOVpPxGeCp",
        "outputId": "64e3632b-a66a-4d29-dc66-2c2c4f13c561"
      },
      "execution_count": 70,
      "outputs": [
        {
          "output_type": "stream",
          "name": "stdout",
          "text": [
            "Summation of two numbers (40, 60)\n"
          ]
        }
      ]
    },
    {
      "cell_type": "markdown",
      "source": [
        "11. Create a class Person with attributes name and age. Add a method greet() that prints \"Hello, my name is\n",
        "{name} and I am {age} years old.\""
      ],
      "metadata": {
        "id": "48gwcNx3JDDD"
      }
    },
    {
      "cell_type": "code",
      "source": [
        "class Person:\n",
        "    def __init__(self, name, age):\n",
        "        self.name = name\n",
        "        self.age = age\n",
        "\n",
        "    def greet(self):\n",
        "        print(f\"Hello, my name is {self.name} and I am {self.age} years old.\")\n",
        "\n",
        "    def __str__(self):\n",
        "        return f\"My name is {self.name} and I am {self.age} years old.\"\n",
        "\n",
        "p = Person(\"Pushpa\",35)\n",
        "print(p)\n",
        "p.greet()"
      ],
      "metadata": {
        "colab": {
          "base_uri": "https://localhost:8080/"
        },
        "id": "Msp3g2pnIYu6",
        "outputId": "3544d2a4-1a6c-48a7-8739-5a14d1faadaa"
      },
      "execution_count": 75,
      "outputs": [
        {
          "output_type": "stream",
          "name": "stdout",
          "text": [
            "My name is Pushpa and I am 35 years old.\n",
            "Hello, my name is Pushpa and I am 35 years old.\n"
          ]
        }
      ]
    },
    {
      "cell_type": "markdown",
      "source": [
        "12.Implement a class Student with attributes name and grades. Create a method average_grade() to compute\n",
        "the average of the grades."
      ],
      "metadata": {
        "id": "ddMWOwDtKdId"
      }
    },
    {
      "cell_type": "code",
      "source": [
        "class Student:\n",
        "    def __init__(self, name, grades):\n",
        "        self.name = name\n",
        "        self.grades = grades\n",
        "\n",
        "    def average_grade(self):\n",
        "        if not self.grades:\n",
        "            return 0\n",
        "        return sum(self.grades) / len(self.grades)\n",
        "\n",
        "    def __str__(self):\n",
        "        return f\"Student: {self.name}, Average Grade: {self.average_grade():.2f}\""
      ],
      "metadata": {
        "id": "yqzS3EoxKPtG"
      },
      "execution_count": 79,
      "outputs": []
    },
    {
      "cell_type": "code",
      "source": [
        "stu = Student(\"Harish\",[90,80,70])\n",
        "print(stu)"
      ],
      "metadata": {
        "colab": {
          "base_uri": "https://localhost:8080/"
        },
        "id": "bYk8EYWRKzHx",
        "outputId": "448d4228-2682-4ce5-da0d-b3f922ec90a4"
      },
      "execution_count": 80,
      "outputs": [
        {
          "output_type": "stream",
          "name": "stdout",
          "text": [
            "Student: Harish, Average Grade: 80.00\n"
          ]
        }
      ]
    },
    {
      "cell_type": "markdown",
      "source": [
        "13. Create a class Rectangle with methods set_dimensions() to set the dimensions and area() to calculate the\n",
        "area."
      ],
      "metadata": {
        "id": "JzGCijJDLD6H"
      }
    },
    {
      "cell_type": "code",
      "source": [
        "class Rectangle:\n",
        "    def __init__(self):\n",
        "        self.width = 0\n",
        "        self.height = 0\n",
        "\n",
        "    def set_dimensions(self, width, height):\n",
        "        self.width = width\n",
        "        self.height = height\n",
        "\n",
        "    def area(self):\n",
        "        return self.width * self.height\n",
        "\n",
        "    def __str__(self):\n",
        "      return f\"Width: {self.width}, Height: {self.height}\""
      ],
      "metadata": {
        "id": "EbpjI52WLHqD"
      },
      "execution_count": 83,
      "outputs": []
    },
    {
      "cell_type": "code",
      "source": [
        "res = Rectangle()\n",
        "print(res)\n",
        "res.set_dimensions(10,20)\n",
        "print(res)\n",
        "print(res.area())"
      ],
      "metadata": {
        "colab": {
          "base_uri": "https://localhost:8080/"
        },
        "id": "2PCZZWWwMFa5",
        "outputId": "8c1418b6-f554-4b4f-800a-3ed63f4bbe11"
      },
      "execution_count": 86,
      "outputs": [
        {
          "output_type": "stream",
          "name": "stdout",
          "text": [
            "Width: 0, Height: 0\n",
            "Width: 10, Height: 20\n",
            "200\n"
          ]
        }
      ]
    },
    {
      "cell_type": "markdown",
      "source": [
        "14. Create a class Employee with a method calculate_salary() that computes the salary based on hours worked\n",
        "and hourly rate. Create a derived class Manager that adds a bonus to the salary."
      ],
      "metadata": {
        "id": "IdZuSm9GNNqH"
      }
    },
    {
      "cell_type": "code",
      "source": [
        "class Employee:\n",
        "  def __init__(self, name, hours_worked, hourly_rate):\n",
        "    self.name = name\n",
        "    self.hours_worked = hours_worked\n",
        "    self.hourly_rate = hourly_rate\n",
        "\n",
        "  def calculate_salary(self):\n",
        "    return self.hours_worked * self.hourly_rate\n",
        "\n",
        "class Manager(Employee):\n",
        "  def __init__(self, name, hours_worked, hourly_rate, bonus):\n",
        "    super().__init__(name, hours_worked, hourly_rate)\n",
        "    self.bonus = bonus\n",
        "\n",
        "  def calculate_salary(self):\n",
        "    base_salary = super().calculate_salary()\n",
        "    return base_salary + self.bonus\n",
        "\n",
        "e = Employee(\"Keshav\", 9, 100000)\n",
        "print(e.calculate_salary())\n",
        "\n",
        "m = Manager(\"Harish\", 9, 100000, 5000)\n",
        "print(m.calculate_salary())"
      ],
      "metadata": {
        "colab": {
          "base_uri": "https://localhost:8080/"
        },
        "id": "mSgibWMbMQA2",
        "outputId": "0feb6297-a5d1-4fbb-f0d5-4f02d60c3036"
      },
      "execution_count": 90,
      "outputs": [
        {
          "output_type": "stream",
          "name": "stdout",
          "text": [
            "900000\n",
            "905000\n"
          ]
        }
      ]
    },
    {
      "cell_type": "markdown",
      "source": [
        "15. Create a class Product with attributes name, price, and quantity. Implement a method total_price() that\n",
        "calculates the total price of the product\n"
      ],
      "metadata": {
        "id": "iap7iYi0Pi3V"
      }
    },
    {
      "cell_type": "code",
      "source": [
        "class Product:\n",
        "    def __init__(self, name, price, quantity):\n",
        "        self.name = name\n",
        "        self.price = price\n",
        "        self.quantity = quantity\n",
        "\n",
        "    def total_price(self):\n",
        "        return self.price * self.quantity\n",
        "\n",
        "    def __str__(self):\n",
        "        return f\"Product: {self.name}, Price: {self.price}, Quantity: {self.quantity}\"\n",
        "\n",
        "p = Product(\"Mobile\", 10000, 2)\n",
        "print(p)\n",
        "print(p.total_price())"
      ],
      "metadata": {
        "colab": {
          "base_uri": "https://localhost:8080/"
        },
        "id": "-qLWiTSrOdBR",
        "outputId": "5c2d0f87-4802-4b11-ccc5-fe9331b5d178"
      },
      "execution_count": 97,
      "outputs": [
        {
          "output_type": "stream",
          "name": "stdout",
          "text": [
            "Product: Mobile, Price: 10000, Quantity: 2\n",
            "20000\n"
          ]
        }
      ]
    },
    {
      "cell_type": "markdown",
      "source": [
        "16. Create a class Animal with an abstract method sound(). Create two derived classes Cow and Sheep that\n",
        "implement the sound() method."
      ],
      "metadata": {
        "id": "6yjaRQc5Pl_d"
      }
    },
    {
      "cell_type": "code",
      "source": [
        "from abc import ABC, abstractmethod\n",
        "\n",
        "class Animal(ABC):\n",
        "  def sound(self):\n",
        "    pass\n",
        "\n",
        "class Cow(Animal):\n",
        "  def sound(self):\n",
        "    print(\"OOOOoooooo\")\n",
        "\n",
        "class Sheep(Animal):\n",
        "  def sound(self):\n",
        "    print(\"Baa Baa\")\n",
        "\n",
        "cow = Cow()\n",
        "cow.sound()\n",
        "\n",
        "sheep = Sheep()\n",
        "sheep.sound()"
      ],
      "metadata": {
        "colab": {
          "base_uri": "https://localhost:8080/"
        },
        "id": "2zv71LQTPVU4",
        "outputId": "7a57579d-e1f2-40cc-9858-7e7c6480d0db"
      },
      "execution_count": 100,
      "outputs": [
        {
          "output_type": "stream",
          "name": "stdout",
          "text": [
            "OOOOoooooo\n",
            "Baa Baa\n"
          ]
        }
      ]
    },
    {
      "cell_type": "markdown",
      "source": [
        "17. Create a class Book with attributes title, author, and year_published. Add a method get_book_info() that\n",
        "returns a formatted string with the book's details."
      ],
      "metadata": {
        "id": "34IoLa8ZQAiD"
      }
    },
    {
      "cell_type": "code",
      "source": [
        "class Book:\n",
        "    def __init__(self, title, author, year_published):\n",
        "        self.title = title\n",
        "        self.author = author\n",
        "        self.year_published = year_published\n",
        "\n",
        "    def get_book_info(self):\n",
        "        return f\"'{self.title}' by {self.author} (Published in {self.year_published})\"\n",
        "\n",
        "    def __str__(self):\n",
        "        return f\"'{self.title}' by {self.author} (Published in {self.year_published})\"\n",
        "\n",
        "b = Book(\"Power of 48 Laws\",\"xyz\",2001)\n",
        "print(b.get_book_info())\n",
        "print(b)"
      ],
      "metadata": {
        "colab": {
          "base_uri": "https://localhost:8080/"
        },
        "id": "w2TI9mq7PsR-",
        "outputId": "bff3472c-f33c-4294-e2c5-58faf17cb896"
      },
      "execution_count": 107,
      "outputs": [
        {
          "output_type": "stream",
          "name": "stdout",
          "text": [
            "'Power of 48 Laws' by xyz (Published in 2001)\n",
            "'Power of 48 Laws' by xyz (Published in 2001)\n"
          ]
        }
      ]
    },
    {
      "cell_type": "markdown",
      "source": [
        "18. Create a class House with attributes address and price. Create a derived class Mansion that adds an\n",
        "attribute number_of_rooms\n"
      ],
      "metadata": {
        "id": "dLVOy31sQ5JG"
      }
    },
    {
      "cell_type": "code",
      "source": [
        "class House:\n",
        "  def __init__(self, address, price):\n",
        "    self.address = address\n",
        "    self.price = price\n",
        "\n",
        "  def __str__(self):\n",
        "    return f\"Address: {self.address}, Price: {self.price}\"\n",
        "\n",
        "class Mansion(House):\n",
        "  def __init__(self, address, price, number_of_rooms):\n",
        "    super().__init__(address, price)\n",
        "    self.number_of_rooms = number_of_rooms\n",
        "\n",
        "\n",
        "  def __str__(self):\n",
        "    return f\"Address: {self.address}, Price: {self.price}, Number of Rooms: {self.number_of_rooms}\"\n",
        "\n",
        "h = House(\"Andheri\", 500000)\n",
        "m = Mansion(\"Andheri\", 500000, 10)\n",
        "print(h)\n",
        "print(m)"
      ],
      "metadata": {
        "colab": {
          "base_uri": "https://localhost:8080/"
        },
        "id": "BYnHIMj5QcSl",
        "outputId": "0e88a5c8-9d90-40f9-e13d-1441a78c9c09"
      },
      "execution_count": 111,
      "outputs": [
        {
          "output_type": "stream",
          "name": "stdout",
          "text": [
            "Address: Andheri, Price: 500000\n",
            "Address: Andheri, Price: 500000, Number of Rooms: 10\n"
          ]
        }
      ]
    },
    {
      "cell_type": "code",
      "source": [],
      "metadata": {
        "id": "lAKu8MvOSBeM"
      },
      "execution_count": null,
      "outputs": []
    }
  ]
}